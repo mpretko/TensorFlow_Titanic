{
 "cells": [
  {
   "cell_type": "markdown",
   "metadata": {},
   "source": [
    "# Predicting Survivors of the Titanic\n",
    "### A First Project on Kaggle"
   ]
  },
  {
   "cell_type": "markdown",
   "metadata": {},
   "source": [
    "In this project, I will analyze data on passengers of the Titanic, in order to find relationships between survival and other variables, such as age, class, and family details.  I will use data on a subset of passengers to train a machine learning model (in this case a deep neural network using TensorFlow), which can then be used to make predictions on the survival of the remaining passengers."
   ]
  },
  {
   "cell_type": "markdown",
   "metadata": {},
   "source": [
    "We first import the necessary packages and read in the training and test data:"
   ]
  },
  {
   "cell_type": "code",
   "execution_count": 114,
   "metadata": {},
   "outputs": [
    {
     "data": {
      "text/html": [
       "<div>\n",
       "<style scoped>\n",
       "    .dataframe tbody tr th:only-of-type {\n",
       "        vertical-align: middle;\n",
       "    }\n",
       "\n",
       "    .dataframe tbody tr th {\n",
       "        vertical-align: top;\n",
       "    }\n",
       "\n",
       "    .dataframe thead th {\n",
       "        text-align: right;\n",
       "    }\n",
       "</style>\n",
       "<table border=\"1\" class=\"dataframe\">\n",
       "  <thead>\n",
       "    <tr style=\"text-align: right;\">\n",
       "      <th></th>\n",
       "      <th>PassengerId</th>\n",
       "      <th>Survived</th>\n",
       "      <th>Pclass</th>\n",
       "      <th>Name</th>\n",
       "      <th>Sex</th>\n",
       "      <th>Age</th>\n",
       "      <th>SibSp</th>\n",
       "      <th>Parch</th>\n",
       "      <th>Ticket</th>\n",
       "      <th>Fare</th>\n",
       "      <th>Cabin</th>\n",
       "      <th>Embarked</th>\n",
       "    </tr>\n",
       "  </thead>\n",
       "  <tbody>\n",
       "    <tr>\n",
       "      <th>0</th>\n",
       "      <td>1</td>\n",
       "      <td>0</td>\n",
       "      <td>3</td>\n",
       "      <td>Braund, Mr. Owen Harris</td>\n",
       "      <td>male</td>\n",
       "      <td>22.0</td>\n",
       "      <td>1</td>\n",
       "      <td>0</td>\n",
       "      <td>A/5 21171</td>\n",
       "      <td>7.2500</td>\n",
       "      <td>NaN</td>\n",
       "      <td>S</td>\n",
       "    </tr>\n",
       "    <tr>\n",
       "      <th>1</th>\n",
       "      <td>2</td>\n",
       "      <td>1</td>\n",
       "      <td>1</td>\n",
       "      <td>Cumings, Mrs. John Bradley (Florence Briggs Th...</td>\n",
       "      <td>female</td>\n",
       "      <td>38.0</td>\n",
       "      <td>1</td>\n",
       "      <td>0</td>\n",
       "      <td>PC 17599</td>\n",
       "      <td>71.2833</td>\n",
       "      <td>C85</td>\n",
       "      <td>C</td>\n",
       "    </tr>\n",
       "    <tr>\n",
       "      <th>2</th>\n",
       "      <td>3</td>\n",
       "      <td>1</td>\n",
       "      <td>3</td>\n",
       "      <td>Heikkinen, Miss. Laina</td>\n",
       "      <td>female</td>\n",
       "      <td>26.0</td>\n",
       "      <td>0</td>\n",
       "      <td>0</td>\n",
       "      <td>STON/O2. 3101282</td>\n",
       "      <td>7.9250</td>\n",
       "      <td>NaN</td>\n",
       "      <td>S</td>\n",
       "    </tr>\n",
       "    <tr>\n",
       "      <th>3</th>\n",
       "      <td>4</td>\n",
       "      <td>1</td>\n",
       "      <td>1</td>\n",
       "      <td>Futrelle, Mrs. Jacques Heath (Lily May Peel)</td>\n",
       "      <td>female</td>\n",
       "      <td>35.0</td>\n",
       "      <td>1</td>\n",
       "      <td>0</td>\n",
       "      <td>113803</td>\n",
       "      <td>53.1000</td>\n",
       "      <td>C123</td>\n",
       "      <td>S</td>\n",
       "    </tr>\n",
       "    <tr>\n",
       "      <th>4</th>\n",
       "      <td>5</td>\n",
       "      <td>0</td>\n",
       "      <td>3</td>\n",
       "      <td>Allen, Mr. William Henry</td>\n",
       "      <td>male</td>\n",
       "      <td>35.0</td>\n",
       "      <td>0</td>\n",
       "      <td>0</td>\n",
       "      <td>373450</td>\n",
       "      <td>8.0500</td>\n",
       "      <td>NaN</td>\n",
       "      <td>S</td>\n",
       "    </tr>\n",
       "  </tbody>\n",
       "</table>\n",
       "</div>"
      ],
      "text/plain": [
       "   PassengerId  Survived  Pclass  \\\n",
       "0            1         0       3   \n",
       "1            2         1       1   \n",
       "2            3         1       3   \n",
       "3            4         1       1   \n",
       "4            5         0       3   \n",
       "\n",
       "                                                Name     Sex   Age  SibSp  \\\n",
       "0                            Braund, Mr. Owen Harris    male  22.0      1   \n",
       "1  Cumings, Mrs. John Bradley (Florence Briggs Th...  female  38.0      1   \n",
       "2                             Heikkinen, Miss. Laina  female  26.0      0   \n",
       "3       Futrelle, Mrs. Jacques Heath (Lily May Peel)  female  35.0      1   \n",
       "4                           Allen, Mr. William Henry    male  35.0      0   \n",
       "\n",
       "   Parch            Ticket     Fare Cabin Embarked  \n",
       "0      0         A/5 21171   7.2500   NaN        S  \n",
       "1      0          PC 17599  71.2833   C85        C  \n",
       "2      0  STON/O2. 3101282   7.9250   NaN        S  \n",
       "3      0            113803  53.1000  C123        S  \n",
       "4      0            373450   8.0500   NaN        S  "
      ]
     },
     "execution_count": 114,
     "metadata": {},
     "output_type": "execute_result"
    }
   ],
   "source": [
    "import pandas as pd\n",
    "import numpy as np\n",
    "import tensorflow as tf\n",
    "from sklearn.ensemble import RandomForestClassifier\n",
    "\n",
    "df = pd.read_csv('train.csv')\n",
    "df_test = pd.read_csv('test.csv')\n",
    "df.head()"
   ]
  },
  {
   "cell_type": "markdown",
   "metadata": {},
   "source": [
    "We first drop the name, id, and ticket number variables, which are unique to each person and cannot be used to find any sort of pattern.  We then identify which columns have missing data:"
   ]
  },
  {
   "cell_type": "code",
   "execution_count": 115,
   "metadata": {},
   "outputs": [
    {
     "name": "stdout",
     "output_type": "stream",
     "text": [
      "Percent of values missing in training set\n",
      "Survived: 0.0\n",
      "Pclass: 0.0\n",
      "Sex: 0.0\n",
      "Age: 0.19865319865319866\n",
      "SibSp: 0.0\n",
      "Parch: 0.0\n",
      "Fare: 0.0\n",
      "Cabin: 0.7710437710437711\n",
      "Embarked: 0.002244668911335578\n",
      "\n",
      "Percent of values missing in test set\n",
      "Pclass: 0.0\n",
      "Sex: 0.0\n",
      "Age: 0.20574162679425836\n",
      "SibSp: 0.0\n",
      "Parch: 0.0\n",
      "Fare: 0.0023923444976076554\n",
      "Cabin: 0.7822966507177034\n",
      "Embarked: 0.0\n"
     ]
    }
   ],
   "source": [
    "df_clean = df.drop(columns=['Name', 'PassengerId', 'Ticket'])\n",
    "dft_clean = df_test.drop(columns=['Name', 'PassengerId', 'Ticket'])\n",
    "\n",
    "print('Percent of values missing in training set')\n",
    "for column in df_clean.columns:\n",
    "    print(column + ': ' + str(len(df_clean[df_clean[column].isnull()])/len(df_clean)))\n",
    "    \n",
    "print('\\nPercent of values missing in test set')\n",
    "for column in dft_clean.columns:\n",
    "    print(column + ': ' + str(len(dft_clean[dft_clean[column].isnull()])/len(dft_clean)))"
   ]
  },
  {
   "cell_type": "markdown",
   "metadata": {},
   "source": [
    "We find that the majority of Cabin data is missing, so we drop the Cabin variable from the data entirely.  Since there are only a small number of missing entries from the Embarked column, we simply drop the passengers with missing Embarked data from the training set.  (There are no missing Embarked entries in the test set.)  For Age, we replace missing values with the average age, for both the training and test sets (a procedure which could be improved upon in future iterations).  For the small number of missing Fare values in the test set, we replace them with the average Fare value."
   ]
  },
  {
   "cell_type": "code",
   "execution_count": 116,
   "metadata": {},
   "outputs": [],
   "source": [
    "df_clean.drop(columns = ['Cabin'], inplace=True)\n",
    "df_clean.dropna(subset=['Embarked'], inplace=True)\n",
    "df_clean['Age'].fillna(df_clean['Age'].mean(), inplace=True)\n",
    "\n",
    "dft_clean.drop(columns = ['Cabin'], inplace=True)\n",
    "dft_clean['Fare'].fillna(dft_clean['Fare'].mean(), inplace=True)\n",
    "dft_clean['Age'].fillna(dft_clean['Age'].mean(), inplace=True)"
   ]
  },
  {
   "cell_type": "markdown",
   "metadata": {},
   "source": [
    "We rescale the Age and Fare variables to lie between 0 and 1.  We convert the Sex variable to 0 or 1, representing male or female, respectively.  Similarly, in the Embarked column, we represent (S, C, Q) as (0, 1, 2)."
   ]
  },
  {
   "cell_type": "code",
   "execution_count": 117,
   "metadata": {},
   "outputs": [
    {
     "data": {
      "text/html": [
       "<div>\n",
       "<style scoped>\n",
       "    .dataframe tbody tr th:only-of-type {\n",
       "        vertical-align: middle;\n",
       "    }\n",
       "\n",
       "    .dataframe tbody tr th {\n",
       "        vertical-align: top;\n",
       "    }\n",
       "\n",
       "    .dataframe thead th {\n",
       "        text-align: right;\n",
       "    }\n",
       "</style>\n",
       "<table border=\"1\" class=\"dataframe\">\n",
       "  <thead>\n",
       "    <tr style=\"text-align: right;\">\n",
       "      <th></th>\n",
       "      <th>Survived</th>\n",
       "      <th>Pclass</th>\n",
       "      <th>Sex</th>\n",
       "      <th>Age</th>\n",
       "      <th>SibSp</th>\n",
       "      <th>Parch</th>\n",
       "      <th>Fare</th>\n",
       "      <th>Embarked</th>\n",
       "    </tr>\n",
       "  </thead>\n",
       "  <tbody>\n",
       "    <tr>\n",
       "      <th>0</th>\n",
       "      <td>0</td>\n",
       "      <td>3</td>\n",
       "      <td>0</td>\n",
       "      <td>0.2750</td>\n",
       "      <td>1</td>\n",
       "      <td>0</td>\n",
       "      <td>0.014151</td>\n",
       "      <td>0</td>\n",
       "    </tr>\n",
       "    <tr>\n",
       "      <th>1</th>\n",
       "      <td>1</td>\n",
       "      <td>1</td>\n",
       "      <td>1</td>\n",
       "      <td>0.4750</td>\n",
       "      <td>1</td>\n",
       "      <td>0</td>\n",
       "      <td>0.139136</td>\n",
       "      <td>1</td>\n",
       "    </tr>\n",
       "    <tr>\n",
       "      <th>2</th>\n",
       "      <td>1</td>\n",
       "      <td>3</td>\n",
       "      <td>1</td>\n",
       "      <td>0.3250</td>\n",
       "      <td>0</td>\n",
       "      <td>0</td>\n",
       "      <td>0.015469</td>\n",
       "      <td>0</td>\n",
       "    </tr>\n",
       "    <tr>\n",
       "      <th>3</th>\n",
       "      <td>1</td>\n",
       "      <td>1</td>\n",
       "      <td>1</td>\n",
       "      <td>0.4375</td>\n",
       "      <td>1</td>\n",
       "      <td>0</td>\n",
       "      <td>0.103644</td>\n",
       "      <td>0</td>\n",
       "    </tr>\n",
       "    <tr>\n",
       "      <th>4</th>\n",
       "      <td>0</td>\n",
       "      <td>3</td>\n",
       "      <td>0</td>\n",
       "      <td>0.4375</td>\n",
       "      <td>0</td>\n",
       "      <td>0</td>\n",
       "      <td>0.015713</td>\n",
       "      <td>0</td>\n",
       "    </tr>\n",
       "  </tbody>\n",
       "</table>\n",
       "</div>"
      ],
      "text/plain": [
       "   Survived  Pclass  Sex     Age  SibSp  Parch      Fare  Embarked\n",
       "0         0       3    0  0.2750      1      0  0.014151         0\n",
       "1         1       1    1  0.4750      1      0  0.139136         1\n",
       "2         1       3    1  0.3250      0      0  0.015469         0\n",
       "3         1       1    1  0.4375      1      0  0.103644         0\n",
       "4         0       3    0  0.4375      0      0  0.015713         0"
      ]
     },
     "execution_count": 117,
     "metadata": {},
     "output_type": "execute_result"
    }
   ],
   "source": [
    "df_clean['Age'] = df_clean['Age']/max(df_clean['Age'])\n",
    "df_clean['Fare'] = df_clean['Fare']/max(df_clean['Fare'])\n",
    "df_clean.replace({'male': 0, 'female': 1}, inplace=True)\n",
    "df_clean.replace({'S':0, 'C':1, 'Q':2}, inplace=True)\n",
    "df_clean.reset_index(drop=True, inplace=True)\n",
    "\n",
    "dft_clean['Age'] = dft_clean['Age']/max(dft_clean['Age'])\n",
    "dft_clean['Fare'] = dft_clean['Fare']/max(dft_clean['Fare'])\n",
    "dft_clean.replace({'male': 0, 'female': 1}, inplace=True)\n",
    "dft_clean.replace({'S':0, 'C':1, 'Q':2}, inplace=True)\n",
    "dft_clean.reset_index(drop=True, inplace=True)\n",
    "\n",
    "df_clean.head()"
   ]
  },
  {
   "cell_type": "markdown",
   "metadata": {},
   "source": [
    "To prepare for applying our machine learning algorithm.  We use the Survived data as our dependent variable y, while all other data is grouped into the independent variable x.  We also convert the data into numpy arrays, which is important for feeding the data into a keras neural network."
   ]
  },
  {
   "cell_type": "code",
   "execution_count": 118,
   "metadata": {},
   "outputs": [],
   "source": [
    "y = np.asarray(df_clean['Survived'])\n",
    "x = np.asarray(df_clean[['Pclass', 'Sex', 'Age', 'SibSp', 'Parch', 'Fare', 'Embarked']])\n",
    "x_test = np.asarray(dft_clean)"
   ]
  },
  {
   "cell_type": "markdown",
   "metadata": {},
   "source": [
    "We create a 3-layer neural network, ending in a single neuron with sigmoid activation, to serve as a binary classifier indicating survival or death of passengers.  The first layer contains as many neurons as there are independent variables (7), while the hidden layer in the middle contains three times as many neurons as the middle layer.  The network is optimized using stochastic gradient descent, over 15 epochs."
   ]
  },
  {
   "cell_type": "code",
   "execution_count": 119,
   "metadata": {},
   "outputs": [
    {
     "name": "stdout",
     "output_type": "stream",
     "text": [
      "Train on 889 samples\n",
      "Epoch 1/15\n",
      "889/889 [==============================] - 0s 331us/sample - loss: 0.7554 - accuracy: 0.5062\n",
      "Epoch 2/15\n",
      "889/889 [==============================] - 0s 33us/sample - loss: 0.6649 - accuracy: 0.6535\n",
      "Epoch 3/15\n",
      "889/889 [==============================] - 0s 41us/sample - loss: 0.6484 - accuracy: 0.6592\n",
      "Epoch 4/15\n",
      "889/889 [==============================] - 0s 41us/sample - loss: 0.6333 - accuracy: 0.6772\n",
      "Epoch 5/15\n",
      "889/889 [==============================] - 0s 34us/sample - loss: 0.6195 - accuracy: 0.6828\n",
      "Epoch 6/15\n",
      "889/889 [==============================] - 0s 35us/sample - loss: 0.6082 - accuracy: 0.6929\n",
      "Epoch 7/15\n",
      "889/889 [==============================] - 0s 37us/sample - loss: 0.5953 - accuracy: 0.7109\n",
      "Epoch 8/15\n",
      "889/889 [==============================] - 0s 34us/sample - loss: 0.5822 - accuracy: 0.7233\n",
      "Epoch 9/15\n",
      "889/889 [==============================] - 0s 33us/sample - loss: 0.5698 - accuracy: 0.7368\n",
      "Epoch 10/15\n",
      "889/889 [==============================] - 0s 35us/sample - loss: 0.5576 - accuracy: 0.7402\n",
      "Epoch 11/15\n",
      "889/889 [==============================] - 0s 35us/sample - loss: 0.5454 - accuracy: 0.7593\n",
      "Epoch 12/15\n",
      "889/889 [==============================] - 0s 35us/sample - loss: 0.5339 - accuracy: 0.7638\n",
      "Epoch 13/15\n",
      "889/889 [==============================] - 0s 33us/sample - loss: 0.5221 - accuracy: 0.7885\n",
      "Epoch 14/15\n",
      "889/889 [==============================] - 0s 33us/sample - loss: 0.5128 - accuracy: 0.7829\n",
      "Epoch 15/15\n",
      "889/889 [==============================] - 0s 34us/sample - loss: 0.5046 - accuracy: 0.7919\n"
     ]
    },
    {
     "data": {
      "text/plain": [
       "<tensorflow.python.keras.callbacks.History at 0x22e72336b88>"
      ]
     },
     "execution_count": 119,
     "metadata": {},
     "output_type": "execute_result"
    }
   ],
   "source": [
    "model = tf.keras.Sequential([tf.keras.layers.Dense(7, activation = tf.nn.selu),\n",
    "                             tf.keras.layers.Dense(21, activation = tf.nn.selu),\n",
    "                             tf.keras.layers.Dense(1, activation = 'sigmoid')])\n",
    "                            \n",
    "model.compile(optimizer = 'sgd',\n",
    "              loss = 'binary_crossentropy',\n",
    "              metrics=['accuracy'])\n",
    "\n",
    "model.fit(x, y, epochs = 15)"
   ]
  },
  {
   "cell_type": "code",
   "execution_count": 120,
   "metadata": {},
   "outputs": [
    {
     "data": {
      "text/html": [
       "<div>\n",
       "<style scoped>\n",
       "    .dataframe tbody tr th:only-of-type {\n",
       "        vertical-align: middle;\n",
       "    }\n",
       "\n",
       "    .dataframe tbody tr th {\n",
       "        vertical-align: top;\n",
       "    }\n",
       "\n",
       "    .dataframe thead th {\n",
       "        text-align: right;\n",
       "    }\n",
       "</style>\n",
       "<table border=\"1\" class=\"dataframe\">\n",
       "  <thead>\n",
       "    <tr style=\"text-align: right;\">\n",
       "      <th></th>\n",
       "      <th>PassengerId</th>\n",
       "      <th>Survived</th>\n",
       "    </tr>\n",
       "  </thead>\n",
       "  <tbody>\n",
       "    <tr>\n",
       "      <th>0</th>\n",
       "      <td>892</td>\n",
       "      <td>0</td>\n",
       "    </tr>\n",
       "    <tr>\n",
       "      <th>1</th>\n",
       "      <td>893</td>\n",
       "      <td>0</td>\n",
       "    </tr>\n",
       "    <tr>\n",
       "      <th>2</th>\n",
       "      <td>894</td>\n",
       "      <td>0</td>\n",
       "    </tr>\n",
       "    <tr>\n",
       "      <th>3</th>\n",
       "      <td>895</td>\n",
       "      <td>0</td>\n",
       "    </tr>\n",
       "    <tr>\n",
       "      <th>4</th>\n",
       "      <td>896</td>\n",
       "      <td>1</td>\n",
       "    </tr>\n",
       "  </tbody>\n",
       "</table>\n",
       "</div>"
      ],
      "text/plain": [
       "   PassengerId  Survived\n",
       "0          892         0\n",
       "1          893         0\n",
       "2          894         0\n",
       "3          895         0\n",
       "4          896         1"
      ]
     },
     "execution_count": 120,
     "metadata": {},
     "output_type": "execute_result"
    }
   ],
   "source": [
    "predictions = model.predict(x_test)\n",
    "output = df_test[['PassengerId']].merge(pd.DataFrame(predictions), left_index=True, right_index=True)\n",
    "output.rename(columns = {0:'Survived'}, inplace=True)\n",
    "output['Survived'] = round(output['Survived']).astype(int)\n",
    "output.head()"
   ]
  },
  {
   "cell_type": "code",
   "execution_count": 106,
   "metadata": {},
   "outputs": [],
   "source": [
    "output.to_csv('my_submission.csv', index=False)"
   ]
  },
  {
   "cell_type": "code",
   "execution_count": null,
   "metadata": {},
   "outputs": [],
   "source": []
  }
 ],
 "metadata": {
  "kernelspec": {
   "display_name": "Python 3",
   "language": "python",
   "name": "python3"
  },
  "language_info": {
   "codemirror_mode": {
    "name": "ipython",
    "version": 3
   },
   "file_extension": ".py",
   "mimetype": "text/x-python",
   "name": "python",
   "nbconvert_exporter": "python",
   "pygments_lexer": "ipython3",
   "version": "3.7.4"
  }
 },
 "nbformat": 4,
 "nbformat_minor": 4
}
